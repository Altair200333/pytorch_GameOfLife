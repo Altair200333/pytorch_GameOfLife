{
 "cells": [
  {
   "cell_type": "code",
   "execution_count": 1,
   "id": "sunrise-stanley",
   "metadata": {},
   "outputs": [],
   "source": [
    "import json\n",
    "import os\n",
    "import csv\n",
    "import urllib\n",
    "from io import BytesIO\n",
    "from PIL import Image\n",
    "\n",
    "from socket import timeout\n",
    "import torch.nn as nn\n",
    "import torch.optim as optim\n",
    "\n",
    "import numpy as np\n",
    "import matplotlib.pyplot as plt\n",
    "import torch\n",
    "from torchvision import models\n",
    "from torch.utils.data import Dataset, SubsetRandomSampler\n",
    "from torchvision import transforms\n",
    "import cv2\n",
    "from cv2 import VideoWriter, VideoWriter_fourcc\n",
    "import pickle\n",
    "import gameOfLife"
   ]
  },
  {
   "cell_type": "code",
   "execution_count": 2,
   "id": "gross-pepper",
   "metadata": {},
   "outputs": [],
   "source": [
    "%matplotlib inline\n",
    "\n",
    "%load_ext autoreload\n",
    "%autoreload 2"
   ]
  },
  {
   "cell_type": "code",
   "execution_count": 3,
   "id": "postal-square",
   "metadata": {},
   "outputs": [],
   "source": [
    "device = torch.device(\"cuda:0\") #Подрубайтунг"
   ]
  },
  {
   "cell_type": "code",
   "execution_count": 4,
   "id": "urban-traffic",
   "metadata": {},
   "outputs": [],
   "source": [
    "train_folder = \"gl/\" #да да там\n",
    "size = 30"
   ]
  },
  {
   "cell_type": "code",
   "execution_count": 5,
   "id": "included-momentum",
   "metadata": {},
   "outputs": [],
   "source": [
    "def saveState(data, name, epoch):\n",
    "    with open('gl/'+str(name)+\"_\"+str(epoch)+\".gl\", 'wb') as f:\n",
    "        pickle.dump(data, f)\n",
    "        \n",
    "def readState(name, epoch):\n",
    "    with open('gl/'+str(name)+\"_\"+str(epoch)+\".gl\", 'rb') as f:\n",
    "        return pickle.load(f)\n",
    "    \n",
    "def showGame(result, delay = 45):\n",
    "    exit = False\n",
    "    while not exit:\n",
    "        for i in range(len(result)):\n",
    "            img = np.zeros([size, size, 3], dtype=float)\n",
    "            img[:,:,0] = result[i]*0.1\n",
    "            img[:,:,1] = result[i]*0.4\n",
    "            img[:,:,2] = result[i]*0.9\n",
    "\n",
    "            #vis2 = cv2.cvtColor(result[i].astype(np.float32), cv2.COLOR_GRAY2BGR)\n",
    "            resized = cv2.resize(img, (600, 600), 0, 0, interpolation = cv2.INTER_NEAREST)\n",
    "            cv2.imshow(\"game\", resized)\n",
    "            key = cv2.waitKey(delay) \n",
    "            if key!=-1:\n",
    "                exit = True\n",
    "                break\n",
    "\n",
    "    cv2.destroyAllWindows() "
   ]
  },
  {
   "cell_type": "code",
   "execution_count": 8,
   "id": "actual-circulation",
   "metadata": {},
   "outputs": [],
   "source": [
    "class GameOfLifeDataset(Dataset):\n",
    "    def __init__(self, folder, transform=None):\n",
    "        self.transform = transform\n",
    "        self.folder = folder\n",
    "        \n",
    "        files = os.listdir(self.folder)\n",
    "        \n",
    "        self.count = len(files)\n",
    "        self.games_path = list()\n",
    "        \n",
    "        for f in os.listdir(self.folder):\n",
    "            self.games_path.append(f)\n",
    "\n",
    "    def __len__(self):\n",
    "        return self.count\n",
    "\n",
    "    def __getitem__(self, index):\n",
    "        path = self.games_path[index]\n",
    "        game, epoch = path.split('.')[0].split('_')\n",
    "        \n",
    "        cur_step = readState(game, epoch)\n",
    "        next_step = gameOfLife.computeStep(cur_step)\n",
    "        for i in range(9):\n",
    "            next_step = gameOfLife.computeStep(next_step)\n",
    "            \n",
    "        if self.transform is not None:\n",
    "            cur_step = self.transform(cur_step)\n",
    "            next_step = self.transform(next_step)\n",
    "\n",
    "        return cur_step, next_step, index"
   ]
  },
  {
   "cell_type": "code",
   "execution_count": 9,
   "id": "seven-interference",
   "metadata": {},
   "outputs": [],
   "source": [
    "train_dataset = GameOfLifeDataset(train_folder, transform=transforms.Compose([transforms.ToTensor(),]))"
   ]
  },
  {
   "cell_type": "code",
   "execution_count": 10,
   "id": "standing-shelter",
   "metadata": {},
   "outputs": [
    {
     "name": "stdout",
     "output_type": "stream",
     "text": [
      "1500\n"
     ]
    }
   ],
   "source": [
    "batch_size = 10\n",
    "\n",
    "data_size = len(train_dataset)\n",
    "print(data_size)\n",
    "validation_fraction = .2\n",
    "\n",
    "\n",
    "val_split = int(np.floor((validation_fraction) * data_size))\n",
    "indices = list(range(data_size))\n",
    "np.random.seed(42)\n",
    "np.random.shuffle(indices)\n",
    "\n",
    "val_indices, train_indices = indices[:val_split], indices[val_split:]\n",
    "\n",
    "train_sampler = SubsetRandomSampler(train_indices)\n",
    "val_sampler = SubsetRandomSampler(val_indices)\n",
    "\n",
    "train_loader = torch.utils.data.DataLoader(train_dataset, batch_size=batch_size, \n",
    "                                           sampler=train_sampler)\n",
    "val_loader = torch.utils.data.DataLoader(train_dataset, batch_size=batch_size,\n",
    "                                         sampler=val_sampler)"
   ]
  },
  {
   "cell_type": "code",
   "execution_count": 11,
   "id": "continuous-benchmark",
   "metadata": {},
   "outputs": [],
   "source": [
    "def plotResults(loss_history, trainAcc, valAcc):\n",
    "    colors = ['#06d6a0', '#277da1', '#ee6c4d','#5a189a','#f3722c']\n",
    "    fig, axs = plt.subplots(2)\n",
    "    fig.set_size_inches(12, 7)\n",
    "\n",
    "    axs[0].plot(loss_history, label = \"loss\", color = colors[0])\n",
    "    axs[0].grid()\n",
    "    axs[0].legend()\n",
    "    \n",
    "    axs[1].plot(trainAcc, label = \"train accuracy\", color = colors[1])\n",
    "    axs[1].plot(valAcc, label = \"validation accuracy\", color = colors[2])\n",
    "    axs[1].grid()\n",
    "    axs[1].legend()"
   ]
  },
  {
   "cell_type": "code",
   "execution_count": 12,
   "id": "intermediate-shopping",
   "metadata": {},
   "outputs": [],
   "source": [
    "import copy\n",
    "\n",
    "def compute_accuracy(model, loader, device):\n",
    "    \"\"\"\n",
    "    Computes accuracy on the dataset wrapped in a loader\n",
    "\n",
    "    Returns: accuracy as a float value between 0 and 1\n",
    "    \"\"\"\n",
    "    model.eval()  # Evaluation mode\n",
    "\n",
    "    correct = 0\n",
    "    total = 0\n",
    "    with torch.no_grad():\n",
    "        for i_step, (x, y, _) in enumerate(loader):\n",
    "            x, y = x.float(), y.float()\n",
    "            prediction = model(x.to(device)).cpu()\n",
    "            #print(prediction.shape)\n",
    "\n",
    "            for i in range(x.shape[0]):\n",
    "                for j in range(x.shape[1]):\n",
    "                    y_data = y[i][j]\n",
    "                    pred_data = np.around(prediction[i][j])\n",
    "                    countMap = map(lambda x, y: 1 if x==y else 0, y_data.reshape(-1), pred_data.reshape(-1))\n",
    "                    #print(pred_data)\n",
    "\n",
    "                    correct += sum(list(countMap))/(y_data.shape[0]*y_data.shape[1])\n",
    "                    total += 1\n",
    "                    \n",
    "            del prediction\n",
    "    \n",
    "    return float(correct)/total\n",
    "\n",
    "def train_model_v2(model, train_loader, val_loader, loss, optimizer, num_epochs, scheduler = None):    \n",
    "    loss_history = []\n",
    "    train_history = []\n",
    "    val_history = []\n",
    "    for epoch in range(num_epochs):\n",
    "        model.train() # Enter train mode\n",
    "        \n",
    "        loss_accum = 0\n",
    "        correct_samples = 0\n",
    "        total_samples = 0\n",
    "        for i_step, (x, y,_) in enumerate(train_loader):\n",
    "            x=x.float()\n",
    "            y=y.float()\n",
    "            \n",
    "            x_gpu = x.to(device)\n",
    "            y_gpu = y.to(device)\n",
    "            \n",
    "            prediction = model(x_gpu)    \n",
    "            loss_value = loss(prediction, y_gpu)\n",
    "            \n",
    "            optimizer.zero_grad()\n",
    "            loss_value.backward()\n",
    "            optimizer.step()\n",
    "\n",
    "            for i in range(x.shape[0]):\n",
    "                for j in range(x.shape[1]):\n",
    "                    y_data = y[i][j]\n",
    "                    pred_data = np.around(prediction.cpu().detach().numpy()[i][j])\n",
    "                    countMap = map(lambda x, y: 1 if x==y else 0, y_data.reshape(-1), pred_data.reshape(-1))\n",
    "                    #print(pred_data)\n",
    "\n",
    "                    correct_samples += sum(list(countMap))/(y_data.shape[0]*y_data.shape[1])\n",
    "                    total_samples += 1\n",
    "            \n",
    "            loss_accum += loss_value\n",
    "            \n",
    "        ave_loss = loss_accum / i_step\n",
    "        \n",
    "        train_accuracy = float(correct_samples) / total_samples\n",
    "        val_accuracy = compute_accuracy(model, val_loader, device)\n",
    "        \n",
    "        if scheduler is not None:\n",
    "            scheduler.step(ave_loss)\n",
    "            \n",
    "        loss_history.append(float(ave_loss))\n",
    "        train_history.append(train_accuracy)\n",
    "        val_history.append(val_accuracy)\n",
    "        \n",
    "        print(\"Average loss: %f, Train accuracy: %f, Val accuracy: %f\" % (ave_loss, train_accuracy, val_accuracy))\n",
    "        \n",
    "    return loss_history, train_history, val_history\n",
    "        "
   ]
  },
  {
   "cell_type": "code",
   "execution_count": 23,
   "id": "fundamental-perry",
   "metadata": {},
   "outputs": [
    {
     "data": {
      "text/plain": [
       "Sequential(\n",
       "  (0): Conv2d(1, 12, kernel_size=(3, 3), stride=(1, 1), padding=(1, 1))\n",
       "  (1): ReLU(inplace=True)\n",
       "  (2): Conv2d(12, 24, kernel_size=(3, 3), stride=(1, 1), padding=(1, 1))\n",
       "  (3): ReLU(inplace=True)\n",
       "  (4): Conv2d(24, 48, kernel_size=(3, 3), stride=(1, 1), padding=(1, 1))\n",
       "  (5): ReLU(inplace=True)\n",
       "  (6): Conv2d(48, 24, kernel_size=(3, 3), stride=(1, 1), padding=(1, 1))\n",
       "  (7): ReLU(inplace=True)\n",
       "  (8): Conv2d(24, 12, kernel_size=(3, 3), stride=(1, 1), padding=(1, 1))\n",
       "  (9): ReLU(inplace=True)\n",
       "  (10): Conv2d(12, 1, kernel_size=(3, 3), stride=(1, 1), padding=(1, 1))\n",
       ")"
      ]
     },
     "execution_count": 23,
     "metadata": {},
     "output_type": "execute_result"
    }
   ],
   "source": [
    "model = nn.Sequential(\n",
    "            nn.Conv2d(1, 12, 3, padding=1),\n",
    "            nn.ReLU(inplace=True),\n",
    "            nn.Conv2d(12, 24, 3, padding=1),\n",
    "            nn.ReLU(inplace=True),\n",
    "            nn.Conv2d(24, 48, 3, padding=1),\n",
    "            nn.ReLU(inplace=True),\n",
    "            nn.Conv2d(48, 96, 3, padding=1),\n",
    "            nn.ReLU(inplace=True),\n",
    "            nn.Conv2d(96, 48, 3, padding=1),\n",
    "            nn.ReLU(inplace=True),\n",
    "            nn.Conv2d(48, 24, 3, padding=1),\n",
    "            nn.ReLU(inplace=True),\n",
    "            nn.Conv2d(24, 12, 3, padding=1),\n",
    "            nn.ReLU(inplace=True),\n",
    "            nn.Conv2d(12, 1, 3, padding=1),\n",
    ")\n",
    "model.type(torch.cuda.FloatTensor)\n",
    "model.to(device)"
   ]
  },
  {
   "cell_type": "code",
   "execution_count": 24,
   "id": "identified-peeing",
   "metadata": {},
   "outputs": [
    {
     "name": "stderr",
     "output_type": "stream",
     "text": [
      "c:\\users\\neo\\appdata\\local\\programs\\python\\python38\\lib\\site-packages\\torch\\optim\\lr_scheduler.py:154: UserWarning: The epoch parameter in `scheduler.step()` was not necessary and is being deprecated where possible. Please use `scheduler.step()` to step the scheduler. During the deprecation, if epoch is different from None, the closed form is used instead of the new chainable form, where available. Please open an issue if you are unable to replicate your use case: https://github.com/pytorch/pytorch/issues/new/choose.\n",
      "  warnings.warn(EPOCH_DEPRECATION_WARNING, UserWarning)\n"
     ]
    },
    {
     "name": "stdout",
     "output_type": "stream",
     "text": [
      "Average loss: 0.089409, Train accuracy: 0.894132, Val accuracy: 0.894148\n",
      "Average loss: 0.086948, Train accuracy: 0.894134, Val accuracy: 0.894148\n",
      "Average loss: 0.086249, Train accuracy: 0.894134, Val accuracy: 0.894148\n",
      "Average loss: 0.085637, Train accuracy: 0.894134, Val accuracy: 0.894148\n",
      "Average loss: 0.084982, Train accuracy: 0.894134, Val accuracy: 0.894148\n",
      "Average loss: 0.084226, Train accuracy: 0.894506, Val accuracy: 0.894233\n",
      "Average loss: 0.083413, Train accuracy: 0.896942, Val accuracy: 0.897693\n",
      "Average loss: 0.082849, Train accuracy: 0.898787, Val accuracy: 0.900719\n",
      "Average loss: 0.081559, Train accuracy: 0.900913, Val accuracy: 0.902437\n",
      "Average loss: 0.081082, Train accuracy: 0.901925, Val accuracy: 0.902930\n"
     ]
    }
   ],
   "source": [
    "loss = nn.MSELoss(reduction='mean')\n",
    "optimizer = optim.SGD(model.parameters(), lr=0.1, momentum=0.9)\n",
    "sheduler = optim.lr_scheduler.StepLR(optimizer , step_size=5, gamma=0.8)\n",
    "loss_history, train_history, val_history = train_model_v2(model, train_loader, val_loader, loss, optimizer, 10, sheduler)"
   ]
  },
  {
   "cell_type": "code",
   "execution_count": 25,
   "id": "committed-recording",
   "metadata": {},
   "outputs": [
    {
     "data": {
      "image/png": "[encoded data removed]",
      "text/plain": [
       "<Figure size 864x504 with 2 Axes>"
      ]
     },
     "metadata": {
      "needs_background": "light"
     },
     "output_type": "display_data"
    }
   ],
   "source": [
    "plotResults(loss_history, train_history, val_history)"
   ]
  },
  {
   "cell_type": "code",
   "execution_count": 32,
   "id": "great-bolivia",
   "metadata": {},
   "outputs": [],
   "source": [
    "def nnNextStep(inp):\n",
    "    trans = transforms.Compose([transforms.ToTensor(),])\n",
    "    inp = trans(inp).unsqueeze(0).float().to(device)\n",
    "    res = model(inp).cpu()\n",
    "    res = np.around(res[0][0].detach().numpy())\n",
    "    #print(res)\n",
    "    return res\n",
    "\n",
    "def show2Games(result1, result2, delay = 45):\n",
    "    exit = False\n",
    "    while not exit:\n",
    "        for i in range(len(result1)):\n",
    "            img = np.zeros([size, size, 3], dtype=float)\n",
    "            img[:,:,0] = result1[i]*0.1\n",
    "            img[:,:,1] = result1[i]*0.4\n",
    "            img[:,:,2] = result1[i]*0.9\n",
    "\n",
    "            #vis2 = cv2.cvtColor(result[i].astype(np.float32), cv2.COLOR_GRAY2BGR)\n",
    "            resized = cv2.resize(img, (600, 600), 0, 0, interpolation = cv2.INTER_NEAREST)\n",
    "            cv2.imshow(\"real game\", resized)\n",
    "            \n",
    "            #----\n",
    "            img = np.zeros([size, size, 3], dtype=float)\n",
    "            img[:,:,0] = result2[i]*0.9\n",
    "            img[:,:,1] = result2[i]*0.4\n",
    "            img[:,:,2] = result2[i]*0.1\n",
    "\n",
    "            #vis2 = cv2.cvtColor(result[i].astype(np.float32), cv2.COLOR_GRAY2BGR)\n",
    "            resized = cv2.resize(img, (600, 600), 0, 0, interpolation = cv2.INTER_NEAREST)\n",
    "            cv2.imshow(\"nn game\", resized)\n",
    "            \n",
    "            key = cv2.waitKey(delay) \n",
    "            if key!=-1:\n",
    "                exit = True\n",
    "                break\n",
    "\n",
    "    cv2.destroyAllWindows() \n",
    "def showNNGame():\n",
    "    startGrid = np.random.choice([0, 1], p=[0.8, 0.2], size=(size, size))\n",
    "    res = None  #nn game\n",
    "    res2 = None #real game\n",
    "    \n",
    "    res2 = gameOfLife.computeStep(startGrid)\n",
    "    res = nnNextStep(startGrid)\n",
    "\n",
    "    for i in range(9):\n",
    "        res2 = gameOfLife.computeStep(res2)\n",
    "\n",
    "    show2Games([res2], [res], 90)"
   ]
  },
  {
   "cell_type": "code",
   "execution_count": 33,
   "id": "rental-laugh",
   "metadata": {},
   "outputs": [],
   "source": [
    "showNNGame()"
   ]
  },
  {
   "cell_type": "code",
   "execution_count": null,
   "id": "wrapped-palmer",
   "metadata": {},
   "outputs": [],
   "source": []
  }
 ],
 "metadata": {
  "kernelspec": {
   "display_name": "Python 3",
   "language": "python",
   "name": "python3"
  },
  "language_info": {
   "codemirror_mode": {
    "name": "ipython",
    "version": 3
   },
   "file_extension": ".py",
   "mimetype": "text/x-python",
   "name": "python",
   "nbconvert_exporter": "python",
   "pygments_lexer": "ipython3",
   "version": "3.8.6"
  }
 },
 "nbformat": 4,
 "nbformat_minor": 5
}
