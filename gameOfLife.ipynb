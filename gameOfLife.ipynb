{
 "cells": [
  {
   "cell_type": "code",
   "execution_count": 10,
   "id": "intermediate-timing",
   "metadata": {},
   "outputs": [],
   "source": [
    "import matplotlib.pyplot as plt\n",
    "import numpy as np\n",
    "import scipy.integrate as integrate\n",
    "import math\n",
    "import scipy.fft as fft\n",
    "from functools import partial\n",
    "from scipy import signal\n",
    "#%matplotlib inline\n",
    "import cv2\n",
    "from cv2 import VideoWriter, VideoWriter_fourcc\n",
    "import pickle"
   ]
  },
  {
   "cell_type": "code",
   "execution_count": 11,
   "id": "wrapped-graduate",
   "metadata": {},
   "outputs": [],
   "source": [
    "size = 30\n",
    "plt.rcParams['figure.figsize'] = [5, 5]"
   ]
  },
  {
   "cell_type": "code",
   "execution_count": 12,
   "id": "dated-handle",
   "metadata": {},
   "outputs": [],
   "source": [
    "def showGame(result, delay = 45):\n",
    "    exit = False\n",
    "    while not exit:\n",
    "        for i in range(len(result)):\n",
    "            img = np.zeros([size, size, 3], dtype=float)\n",
    "            img[:,:,0] = result[i]*0.1\n",
    "            img[:,:,1] = result[i]*0.4\n",
    "            img[:,:,2] = result[i]*0.9\n",
    "\n",
    "            #vis2 = cv2.cvtColor(result[i].astype(np.float32), cv2.COLOR_GRAY2BGR)\n",
    "            resized = cv2.resize(img, (600, 600), 0, 0, interpolation = cv2.INTER_NEAREST)\n",
    "            cv2.imshow(\"game\", resized)\n",
    "            key = cv2.waitKey(delay) \n",
    "            if key!=-1:\n",
    "                exit = True\n",
    "                break\n",
    "\n",
    "    cv2.destroyAllWindows() "
   ]
  },
  {
   "cell_type": "code",
   "execution_count": 13,
   "id": "careful-berkeley",
   "metadata": {},
   "outputs": [],
   "source": [
    "def saveState(data, name, epoch):\n",
    "    with open('gl/'+str(name)+\"_\"+str(epoch)+\".gl\", 'wb') as f:\n",
    "        pickle.dump(data, f)\n",
    "        \n",
    "def readState(name, epoch):\n",
    "    with open('gl/'+str(name)+\"_\"+str(epoch)+\".gl\", 'rb') as f:\n",
    "        return pickle.load(f)"
   ]
  },
  {
   "cell_type": "code",
   "execution_count": 14,
   "id": "limiting-filter",
   "metadata": {},
   "outputs": [],
   "source": [
    "kernel = np.ones((3, 3), dtype=int)\n",
    "kernel[1, 1] = 0\n",
    "\n",
    "def computeStep(inp):\n",
    "    def cellLife(n, cell):\n",
    "        if cell == 1:\n",
    "            if n <=1:\n",
    "                return 0\n",
    "            if n>=4:\n",
    "                return 0\n",
    "            if (n==2 or n==3):\n",
    "                return 1\n",
    "        else:\n",
    "            if n == 3:\n",
    "                return 1\n",
    "            else:\n",
    "                return 0\n",
    "            \n",
    "    def cellLifeRow(n, cell):\n",
    "        return list(map(cellLife, n, cell))\n",
    "    \n",
    "    counter = signal.convolve(inp, kernel, mode='same')\n",
    "    n_step = map(cellLifeRow, counter, inp)\n",
    "    #print(np.array(list(n_step)))\n",
    "\n",
    "    return np.array(list(n_step))\n",
    "\n",
    "def computeIterations(inp, iters):\n",
    "    s = inp.shape\n",
    "    res = np.zeros(s[0]*s[1]*iters, dtype = int).reshape(iters, s[0], s[1])\n",
    "    res[0] = np.copy(inp)\n",
    "    \n",
    "    for i in range(1, iters):\n",
    "        res[i] = computeStep(res[i-1])\n",
    "        \n",
    "    return res"
   ]
  },
  {
   "cell_type": "code",
   "execution_count": 24,
   "id": "virgin-latest",
   "metadata": {},
   "outputs": [],
   "source": [
    "start = np.zeros(size*size).reshape(size,size)\n",
    "start = np.random.choice([0, 1], p=[0.8, 0.2], size=(size, size))\n",
    "#np.around(np.random.rand(size, size))\n",
    "\n",
    "res = computeIterations(start, 20)"
   ]
  },
  {
   "cell_type": "code",
   "execution_count": 27,
   "id": "appreciated-nursing",
   "metadata": {},
   "outputs": [],
   "source": [
    "showGame(res, 80)"
   ]
  },
  {
   "cell_type": "code",
   "execution_count": 26,
   "id": "manual-hobby",
   "metadata": {},
   "outputs": [],
   "source": [
    "for i in range(len(res)):\n",
    "    saveState(res[i], \"2\", i)"
   ]
  },
  {
   "cell_type": "code",
   "execution_count": 9,
   "id": "fossil-fifth",
   "metadata": {},
   "outputs": [],
   "source": [
    "#dt = readState(\"0\", 1)\n",
    "#showGame([dt], 80)"
   ]
  },
  {
   "cell_type": "code",
   "execution_count": null,
   "id": "sound-opera",
   "metadata": {},
   "outputs": [],
   "source": []
  },
  {
   "cell_type": "code",
   "execution_count": null,
   "id": "stunning-toilet",
   "metadata": {},
   "outputs": [],
   "source": []
  }
 ],
 "metadata": {
  "kernelspec": {
   "display_name": "Python 3",
   "language": "python",
   "name": "python3"
  },
  "language_info": {
   "codemirror_mode": {
    "name": "ipython",
    "version": 3
   },
   "file_extension": ".py",
   "mimetype": "text/x-python",
   "name": "python",
   "nbconvert_exporter": "python",
   "pygments_lexer": "ipython3",
   "version": "3.8.6"
  }
 },
 "nbformat": 4,
 "nbformat_minor": 5
}
